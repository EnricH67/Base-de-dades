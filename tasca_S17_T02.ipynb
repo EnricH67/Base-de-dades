{
 "cells": [
  {
   "cell_type": "markdown",
   "metadata": {},
   "source": [
    "# TASCA SPRINT 17 T02\n",
    "\n",
    "## NIVELL 1\n",
    "\n",
    "### *Exercici 1*\n",
    "\n",
    "Create a simple DB using MySQL(https://www.mysql.com/) and connect it to Python"
   ]
  },
  {
   "cell_type": "code",
   "execution_count": 1,
   "metadata": {},
   "outputs": [],
   "source": [
    "import mysql.connector"
   ]
  },
  {
   "cell_type": "markdown",
   "metadata": {},
   "source": [
    "+ *After connecting with mysql, I acces to the database created in MySql Worbench for Exercise 1 (\"cadena_miro\")*"
   ]
  },
  {
   "cell_type": "code",
   "execution_count": 2,
   "metadata": {},
   "outputs": [
    {
     "name": "stdout",
     "output_type": "stream",
     "text": [
      "<mysql.connector.connection.MySQLConnection object at 0x000002BC6166DEE0>\n"
     ]
    }
   ],
   "source": [
    "mydb = mysql.connector.connect(\n",
    "  host=\"localhost\",\n",
    "  user=\"root\",\n",
    "  passwd=\"Bmw118dkhr\",\n",
    "  database = 'cadena_miro'\n",
    ")\n",
    "print(mydb)"
   ]
  },
  {
   "cell_type": "markdown",
   "metadata": {},
   "source": [
    "+ *Checking tables contained in the DB*"
   ]
  },
  {
   "cell_type": "code",
   "execution_count": 3,
   "metadata": {},
   "outputs": [
    {
     "name": "stdout",
     "output_type": "stream",
     "text": [
      "('establiment',)\n",
      "('treballador',)\n"
     ]
    }
   ],
   "source": [
    "mycursor = mydb.cursor()\n",
    "\n",
    "mycursor.execute(\"SHOW TABLES\")\n",
    "\n",
    "for x in mycursor:\n",
    "  print(x)"
   ]
  },
  {
   "cell_type": "markdown",
   "metadata": {},
   "source": [
    "+ *Checking Data contained in \"establiment\" field*"
   ]
  },
  {
   "cell_type": "code",
   "execution_count": 4,
   "metadata": {},
   "outputs": [
    {
     "name": "stdout",
     "output_type": "stream",
     "text": [
      "(1, 'Miro-Barcino', 'Barcelona', 350)\n",
      "(2, 'Miro-Gerunda', 'Girona', 300)\n",
      "(3, 'Miro-Tarraco', 'Tarragona', 250)\n",
      "(4, 'Miro-Ilerda', 'Lleida', 200)\n"
     ]
    }
   ],
   "source": [
    "mycursor = mydb.cursor()\n",
    "\n",
    "mycursor.execute(\"SELECT * FROM establiment\")\n",
    "\n",
    "myresult = mycursor.fetchall()\n",
    "\n",
    "for x in myresult:\n",
    "  print(x)"
   ]
  },
  {
   "cell_type": "markdown",
   "metadata": {},
   "source": [
    "+ *And checking Data contained in \"treballador\" field*"
   ]
  },
  {
   "cell_type": "code",
   "execution_count": 5,
   "metadata": {},
   "outputs": [
    {
     "name": "stdout",
     "output_type": "stream",
     "text": [
      "('46100100A', 'Ana', 'Lopez Gomez', 'Balmes 16, Barcelona', '650100101', 1)\n",
      "('46100200B', 'Pedro', 'Gonzalez Sanchez', 'Balmes 16, Barcelona', '650100102', 1)\n",
      "('46100300C', 'Sandra', 'Alonso Benavides', 'Passeig 59, Girona', '650100103', 2)\n",
      "('46100400D', 'Pedro', 'Valdes Flores', 'Santa Rosa 32, Celra', '650100104', 2)\n",
      "('46100500E', 'Ana', 'Simancas Leon', 'Lluna 97, Tarragona', '650100105', 3)\n",
      "('46100600F', 'Josep', 'Mas Llorens', 'Estacio 50, Vilaseca', '650100106', 3)\n",
      "('46100700G', 'Francisca', 'Tort Sarroca', 'Gran Via 75, Lleida', '650100107', 4)\n",
      "('46100800H', 'Miquel', 'Sarda Sagales', 'Major 30, Balaguer', '650100108', 4)\n"
     ]
    }
   ],
   "source": [
    "mycursor.execute(\"SELECT * FROM treballador\")\n",
    "\n",
    "myresult = mycursor.fetchall()\n",
    "\n",
    "for x in myresult:\n",
    "  print(x)"
   ]
  },
  {
   "cell_type": "markdown",
   "metadata": {},
   "source": [
    "## NIVELL 2\n",
    "\n",
    "### *Exercici 2*\n",
    "\n",
    "Mostra que pots carregar algunes consultes senzilles a un Pandas Dataframe"
   ]
  },
  {
   "cell_type": "markdown",
   "metadata": {},
   "source": [
    "+ *We´ll try to obtain a Data frame  according to \"nom\" alphabetic order from \"treballadors\"*"
   ]
  },
  {
   "cell_type": "code",
   "execution_count": 6,
   "metadata": {},
   "outputs": [],
   "source": [
    "import pandas as pd"
   ]
  },
  {
   "cell_type": "code",
   "execution_count": 7,
   "metadata": {},
   "outputs": [
    {
     "data": {
      "text/html": [
       "<div>\n",
       "<style scoped>\n",
       "    .dataframe tbody tr th:only-of-type {\n",
       "        vertical-align: middle;\n",
       "    }\n",
       "\n",
       "    .dataframe tbody tr th {\n",
       "        vertical-align: top;\n",
       "    }\n",
       "\n",
       "    .dataframe thead th {\n",
       "        text-align: right;\n",
       "    }\n",
       "</style>\n",
       "<table border=\"1\" class=\"dataframe\">\n",
       "  <thead>\n",
       "    <tr style=\"text-align: right;\">\n",
       "      <th></th>\n",
       "      <th>DNI</th>\n",
       "      <th>nom</th>\n",
       "      <th>cognoms</th>\n",
       "      <th>adreça</th>\n",
       "      <th>telefon</th>\n",
       "      <th>IDestabliment</th>\n",
       "    </tr>\n",
       "  </thead>\n",
       "  <tbody>\n",
       "    <tr>\n",
       "      <th>0</th>\n",
       "      <td>46100100A</td>\n",
       "      <td>Ana</td>\n",
       "      <td>Lopez Gomez</td>\n",
       "      <td>Balmes 16, Barcelona</td>\n",
       "      <td>650100101</td>\n",
       "      <td>1</td>\n",
       "    </tr>\n",
       "    <tr>\n",
       "      <th>1</th>\n",
       "      <td>46100500E</td>\n",
       "      <td>Ana</td>\n",
       "      <td>Simancas Leon</td>\n",
       "      <td>Lluna 97, Tarragona</td>\n",
       "      <td>650100105</td>\n",
       "      <td>3</td>\n",
       "    </tr>\n",
       "    <tr>\n",
       "      <th>2</th>\n",
       "      <td>46100700G</td>\n",
       "      <td>Francisca</td>\n",
       "      <td>Tort Sarroca</td>\n",
       "      <td>Gran Via 75, Lleida</td>\n",
       "      <td>650100107</td>\n",
       "      <td>4</td>\n",
       "    </tr>\n",
       "    <tr>\n",
       "      <th>3</th>\n",
       "      <td>46100600F</td>\n",
       "      <td>Josep</td>\n",
       "      <td>Mas Llorens</td>\n",
       "      <td>Estacio 50, Vilaseca</td>\n",
       "      <td>650100106</td>\n",
       "      <td>3</td>\n",
       "    </tr>\n",
       "    <tr>\n",
       "      <th>4</th>\n",
       "      <td>46100800H</td>\n",
       "      <td>Miquel</td>\n",
       "      <td>Sarda Sagales</td>\n",
       "      <td>Major 30, Balaguer</td>\n",
       "      <td>650100108</td>\n",
       "      <td>4</td>\n",
       "    </tr>\n",
       "    <tr>\n",
       "      <th>5</th>\n",
       "      <td>46100200B</td>\n",
       "      <td>Pedro</td>\n",
       "      <td>Gonzalez Sanchez</td>\n",
       "      <td>Balmes 16, Barcelona</td>\n",
       "      <td>650100102</td>\n",
       "      <td>1</td>\n",
       "    </tr>\n",
       "    <tr>\n",
       "      <th>6</th>\n",
       "      <td>46100400D</td>\n",
       "      <td>Pedro</td>\n",
       "      <td>Valdes Flores</td>\n",
       "      <td>Santa Rosa 32, Celra</td>\n",
       "      <td>650100104</td>\n",
       "      <td>2</td>\n",
       "    </tr>\n",
       "    <tr>\n",
       "      <th>7</th>\n",
       "      <td>46100300C</td>\n",
       "      <td>Sandra</td>\n",
       "      <td>Alonso Benavides</td>\n",
       "      <td>Passeig 59, Girona</td>\n",
       "      <td>650100103</td>\n",
       "      <td>2</td>\n",
       "    </tr>\n",
       "  </tbody>\n",
       "</table>\n",
       "</div>"
      ],
      "text/plain": [
       "         DNI        nom           cognoms                adreça    telefon  \\\n",
       "0  46100100A        Ana       Lopez Gomez  Balmes 16, Barcelona  650100101   \n",
       "1  46100500E        Ana     Simancas Leon   Lluna 97, Tarragona  650100105   \n",
       "2  46100700G  Francisca      Tort Sarroca   Gran Via 75, Lleida  650100107   \n",
       "3  46100600F      Josep       Mas Llorens  Estacio 50, Vilaseca  650100106   \n",
       "4  46100800H     Miquel     Sarda Sagales    Major 30, Balaguer  650100108   \n",
       "5  46100200B      Pedro  Gonzalez Sanchez  Balmes 16, Barcelona  650100102   \n",
       "6  46100400D      Pedro     Valdes Flores  Santa Rosa 32, Celra  650100104   \n",
       "7  46100300C     Sandra  Alonso Benavides    Passeig 59, Girona  650100103   \n",
       "\n",
       "   IDestabliment  \n",
       "0              1  \n",
       "1              3  \n",
       "2              4  \n",
       "3              3  \n",
       "4              4  \n",
       "5              1  \n",
       "6              2  \n",
       "7              2  "
      ]
     },
     "execution_count": 7,
     "metadata": {},
     "output_type": "execute_result"
    }
   ],
   "source": [
    "sql = \"SELECT * FROM treballador ORDER BY nom\"\n",
    "\n",
    "treb_alphab_df = pd.read_sql_query(sql, con = mydb)\n",
    "\n",
    "treb_alphab_df"
   ]
  },
  {
   "cell_type": "code",
   "execution_count": 8,
   "metadata": {},
   "outputs": [],
   "source": [
    "import pandas as pd"
   ]
  },
  {
   "cell_type": "markdown",
   "metadata": {},
   "source": [
    "+ *We select some of the columns to obtain a data frame with only \"nom\", \"cognoms\" and \"telefon\" (a kind of phone book)*"
   ]
  },
  {
   "cell_type": "code",
   "execution_count": 9,
   "metadata": {},
   "outputs": [
    {
     "data": {
      "text/html": [
       "<div>\n",
       "<style scoped>\n",
       "    .dataframe tbody tr th:only-of-type {\n",
       "        vertical-align: middle;\n",
       "    }\n",
       "\n",
       "    .dataframe tbody tr th {\n",
       "        vertical-align: top;\n",
       "    }\n",
       "\n",
       "    .dataframe thead th {\n",
       "        text-align: right;\n",
       "    }\n",
       "</style>\n",
       "<table border=\"1\" class=\"dataframe\">\n",
       "  <thead>\n",
       "    <tr style=\"text-align: right;\">\n",
       "      <th></th>\n",
       "      <th>nom</th>\n",
       "      <th>cognoms</th>\n",
       "      <th>telefon</th>\n",
       "    </tr>\n",
       "  </thead>\n",
       "  <tbody>\n",
       "    <tr>\n",
       "      <th>0</th>\n",
       "      <td>Ana</td>\n",
       "      <td>Lopez Gomez</td>\n",
       "      <td>650100101</td>\n",
       "    </tr>\n",
       "    <tr>\n",
       "      <th>1</th>\n",
       "      <td>Pedro</td>\n",
       "      <td>Gonzalez Sanchez</td>\n",
       "      <td>650100102</td>\n",
       "    </tr>\n",
       "    <tr>\n",
       "      <th>2</th>\n",
       "      <td>Sandra</td>\n",
       "      <td>Alonso Benavides</td>\n",
       "      <td>650100103</td>\n",
       "    </tr>\n",
       "    <tr>\n",
       "      <th>3</th>\n",
       "      <td>Pedro</td>\n",
       "      <td>Valdes Flores</td>\n",
       "      <td>650100104</td>\n",
       "    </tr>\n",
       "    <tr>\n",
       "      <th>4</th>\n",
       "      <td>Ana</td>\n",
       "      <td>Simancas Leon</td>\n",
       "      <td>650100105</td>\n",
       "    </tr>\n",
       "    <tr>\n",
       "      <th>5</th>\n",
       "      <td>Josep</td>\n",
       "      <td>Mas Llorens</td>\n",
       "      <td>650100106</td>\n",
       "    </tr>\n",
       "    <tr>\n",
       "      <th>6</th>\n",
       "      <td>Francisca</td>\n",
       "      <td>Tort Sarroca</td>\n",
       "      <td>650100107</td>\n",
       "    </tr>\n",
       "    <tr>\n",
       "      <th>7</th>\n",
       "      <td>Miquel</td>\n",
       "      <td>Sarda Sagales</td>\n",
       "      <td>650100108</td>\n",
       "    </tr>\n",
       "  </tbody>\n",
       "</table>\n",
       "</div>"
      ],
      "text/plain": [
       "         nom           cognoms    telefon\n",
       "0        Ana       Lopez Gomez  650100101\n",
       "1      Pedro  Gonzalez Sanchez  650100102\n",
       "2     Sandra  Alonso Benavides  650100103\n",
       "3      Pedro     Valdes Flores  650100104\n",
       "4        Ana     Simancas Leon  650100105\n",
       "5      Josep       Mas Llorens  650100106\n",
       "6  Francisca      Tort Sarroca  650100107\n",
       "7     Miquel     Sarda Sagales  650100108"
      ]
     },
     "execution_count": 9,
     "metadata": {},
     "output_type": "execute_result"
    }
   ],
   "source": [
    "sql = \"SELECT nom, cognoms, telefon FROM treballador\"\n",
    "\n",
    "treb_telef_df = pd.read_sql_query(sql, con = mydb)\n",
    "\n",
    "treb_telef_df"
   ]
  },
  {
   "cell_type": "markdown",
   "metadata": {},
   "source": [
    "+ *And another Data Frame with only \"DNI\" of each employee (\"treballador\")"
   ]
  },
  {
   "cell_type": "code",
   "execution_count": 10,
   "metadata": {},
   "outputs": [
    {
     "data": {
      "text/html": [
       "<div>\n",
       "<style scoped>\n",
       "    .dataframe tbody tr th:only-of-type {\n",
       "        vertical-align: middle;\n",
       "    }\n",
       "\n",
       "    .dataframe tbody tr th {\n",
       "        vertical-align: top;\n",
       "    }\n",
       "\n",
       "    .dataframe thead th {\n",
       "        text-align: right;\n",
       "    }\n",
       "</style>\n",
       "<table border=\"1\" class=\"dataframe\">\n",
       "  <thead>\n",
       "    <tr style=\"text-align: right;\">\n",
       "      <th></th>\n",
       "      <th>DNI</th>\n",
       "      <th>nom</th>\n",
       "      <th>cognoms</th>\n",
       "    </tr>\n",
       "  </thead>\n",
       "  <tbody>\n",
       "    <tr>\n",
       "      <th>0</th>\n",
       "      <td>46100100A</td>\n",
       "      <td>Ana</td>\n",
       "      <td>Lopez Gomez</td>\n",
       "    </tr>\n",
       "    <tr>\n",
       "      <th>1</th>\n",
       "      <td>46100200B</td>\n",
       "      <td>Pedro</td>\n",
       "      <td>Gonzalez Sanchez</td>\n",
       "    </tr>\n",
       "    <tr>\n",
       "      <th>2</th>\n",
       "      <td>46100300C</td>\n",
       "      <td>Sandra</td>\n",
       "      <td>Alonso Benavides</td>\n",
       "    </tr>\n",
       "    <tr>\n",
       "      <th>3</th>\n",
       "      <td>46100400D</td>\n",
       "      <td>Pedro</td>\n",
       "      <td>Valdes Flores</td>\n",
       "    </tr>\n",
       "    <tr>\n",
       "      <th>4</th>\n",
       "      <td>46100500E</td>\n",
       "      <td>Ana</td>\n",
       "      <td>Simancas Leon</td>\n",
       "    </tr>\n",
       "    <tr>\n",
       "      <th>5</th>\n",
       "      <td>46100600F</td>\n",
       "      <td>Josep</td>\n",
       "      <td>Mas Llorens</td>\n",
       "    </tr>\n",
       "    <tr>\n",
       "      <th>6</th>\n",
       "      <td>46100700G</td>\n",
       "      <td>Francisca</td>\n",
       "      <td>Tort Sarroca</td>\n",
       "    </tr>\n",
       "    <tr>\n",
       "      <th>7</th>\n",
       "      <td>46100800H</td>\n",
       "      <td>Miquel</td>\n",
       "      <td>Sarda Sagales</td>\n",
       "    </tr>\n",
       "  </tbody>\n",
       "</table>\n",
       "</div>"
      ],
      "text/plain": [
       "         DNI        nom           cognoms\n",
       "0  46100100A        Ana       Lopez Gomez\n",
       "1  46100200B      Pedro  Gonzalez Sanchez\n",
       "2  46100300C     Sandra  Alonso Benavides\n",
       "3  46100400D      Pedro     Valdes Flores\n",
       "4  46100500E        Ana     Simancas Leon\n",
       "5  46100600F      Josep       Mas Llorens\n",
       "6  46100700G  Francisca      Tort Sarroca\n",
       "7  46100800H     Miquel     Sarda Sagales"
      ]
     },
     "execution_count": 10,
     "metadata": {},
     "output_type": "execute_result"
    }
   ],
   "source": [
    "sql = \"SELECT DNI, nom, cognoms FROM treballador\"\n",
    "\n",
    "treb_dni_df = pd.read_sql_query(sql, con = mydb)\n",
    "\n",
    "treb_dni_df"
   ]
  },
  {
   "cell_type": "markdown",
   "metadata": {},
   "source": [
    "+ *This one with emplyees who live in Barcelona*"
   ]
  },
  {
   "cell_type": "code",
   "execution_count": 11,
   "metadata": {},
   "outputs": [
    {
     "data": {
      "text/html": [
       "<div>\n",
       "<style scoped>\n",
       "    .dataframe tbody tr th:only-of-type {\n",
       "        vertical-align: middle;\n",
       "    }\n",
       "\n",
       "    .dataframe tbody tr th {\n",
       "        vertical-align: top;\n",
       "    }\n",
       "\n",
       "    .dataframe thead th {\n",
       "        text-align: right;\n",
       "    }\n",
       "</style>\n",
       "<table border=\"1\" class=\"dataframe\">\n",
       "  <thead>\n",
       "    <tr style=\"text-align: right;\">\n",
       "      <th></th>\n",
       "      <th>DNI</th>\n",
       "      <th>nom</th>\n",
       "      <th>cognoms</th>\n",
       "      <th>adreça</th>\n",
       "      <th>telefon</th>\n",
       "      <th>IDestabliment</th>\n",
       "    </tr>\n",
       "  </thead>\n",
       "  <tbody>\n",
       "    <tr>\n",
       "      <th>0</th>\n",
       "      <td>46100100A</td>\n",
       "      <td>Ana</td>\n",
       "      <td>Lopez Gomez</td>\n",
       "      <td>Balmes 16, Barcelona</td>\n",
       "      <td>650100101</td>\n",
       "      <td>1</td>\n",
       "    </tr>\n",
       "    <tr>\n",
       "      <th>1</th>\n",
       "      <td>46100200B</td>\n",
       "      <td>Pedro</td>\n",
       "      <td>Gonzalez Sanchez</td>\n",
       "      <td>Balmes 16, Barcelona</td>\n",
       "      <td>650100102</td>\n",
       "      <td>1</td>\n",
       "    </tr>\n",
       "  </tbody>\n",
       "</table>\n",
       "</div>"
      ],
      "text/plain": [
       "         DNI    nom           cognoms                adreça    telefon  \\\n",
       "0  46100100A    Ana       Lopez Gomez  Balmes 16, Barcelona  650100101   \n",
       "1  46100200B  Pedro  Gonzalez Sanchez  Balmes 16, Barcelona  650100102   \n",
       "\n",
       "   IDestabliment  \n",
       "0              1  \n",
       "1              1  "
      ]
     },
     "execution_count": 11,
     "metadata": {},
     "output_type": "execute_result"
    }
   ],
   "source": [
    "sql = \"SELECT * FROM treballador WHERE adreça LIKE '%Barcelona%'\"\n",
    "\n",
    "treb_bcn_df = pd.read_sql_query(sql, con = mydb)\n",
    "\n",
    "treb_bcn_df"
   ]
  },
  {
   "cell_type": "markdown",
   "metadata": {},
   "source": [
    "+ *With the following query, we'll have a Data Frame containing different fields from both tables\n",
    "   to check with one view, in what \"establiment\" (establiment.nom) is working every \"treballador\"\n",
    "   (treballador.nom and treballador.cognoms)*"
   ]
  },
  {
   "cell_type": "code",
   "execution_count": 12,
   "metadata": {},
   "outputs": [
    {
     "data": {
      "text/html": [
       "<div>\n",
       "<style scoped>\n",
       "    .dataframe tbody tr th:only-of-type {\n",
       "        vertical-align: middle;\n",
       "    }\n",
       "\n",
       "    .dataframe tbody tr th {\n",
       "        vertical-align: top;\n",
       "    }\n",
       "\n",
       "    .dataframe thead th {\n",
       "        text-align: right;\n",
       "    }\n",
       "</style>\n",
       "<table border=\"1\" class=\"dataframe\">\n",
       "  <thead>\n",
       "    <tr style=\"text-align: right;\">\n",
       "      <th></th>\n",
       "      <th>name</th>\n",
       "      <th>last_names</th>\n",
       "      <th>shop</th>\n",
       "    </tr>\n",
       "  </thead>\n",
       "  <tbody>\n",
       "    <tr>\n",
       "      <th>0</th>\n",
       "      <td>Ana</td>\n",
       "      <td>Lopez Gomez</td>\n",
       "      <td>Miro-Barcino</td>\n",
       "    </tr>\n",
       "    <tr>\n",
       "      <th>1</th>\n",
       "      <td>Pedro</td>\n",
       "      <td>Gonzalez Sanchez</td>\n",
       "      <td>Miro-Barcino</td>\n",
       "    </tr>\n",
       "    <tr>\n",
       "      <th>2</th>\n",
       "      <td>Sandra</td>\n",
       "      <td>Alonso Benavides</td>\n",
       "      <td>Miro-Gerunda</td>\n",
       "    </tr>\n",
       "    <tr>\n",
       "      <th>3</th>\n",
       "      <td>Pedro</td>\n",
       "      <td>Valdes Flores</td>\n",
       "      <td>Miro-Gerunda</td>\n",
       "    </tr>\n",
       "    <tr>\n",
       "      <th>4</th>\n",
       "      <td>Ana</td>\n",
       "      <td>Simancas Leon</td>\n",
       "      <td>Miro-Tarraco</td>\n",
       "    </tr>\n",
       "    <tr>\n",
       "      <th>5</th>\n",
       "      <td>Josep</td>\n",
       "      <td>Mas Llorens</td>\n",
       "      <td>Miro-Tarraco</td>\n",
       "    </tr>\n",
       "    <tr>\n",
       "      <th>6</th>\n",
       "      <td>Francisca</td>\n",
       "      <td>Tort Sarroca</td>\n",
       "      <td>Miro-Ilerda</td>\n",
       "    </tr>\n",
       "    <tr>\n",
       "      <th>7</th>\n",
       "      <td>Miquel</td>\n",
       "      <td>Sarda Sagales</td>\n",
       "      <td>Miro-Ilerda</td>\n",
       "    </tr>\n",
       "  </tbody>\n",
       "</table>\n",
       "</div>"
      ],
      "text/plain": [
       "        name        last_names          shop\n",
       "0        Ana       Lopez Gomez  Miro-Barcino\n",
       "1      Pedro  Gonzalez Sanchez  Miro-Barcino\n",
       "2     Sandra  Alonso Benavides  Miro-Gerunda\n",
       "3      Pedro     Valdes Flores  Miro-Gerunda\n",
       "4        Ana     Simancas Leon  Miro-Tarraco\n",
       "5      Josep       Mas Llorens  Miro-Tarraco\n",
       "6  Francisca      Tort Sarroca   Miro-Ilerda\n",
       "7     Miquel     Sarda Sagales   Miro-Ilerda"
      ]
     },
     "execution_count": 12,
     "metadata": {},
     "output_type": "execute_result"
    }
   ],
   "source": [
    "sql = \"SELECT treballador.nom AS name, treballador.cognoms AS last_names, establiment.nom AS shop \\\n",
    "FROM treballador , establiment WHERE treballador.IDestabliment = establiment.IDestabliment\"\n",
    "\n",
    "treb_botiga_df = pd.read_sql_query(sql, con = mydb)\n",
    "\n",
    "treb_botiga_df"
   ]
  },
  {
   "cell_type": "markdown",
   "metadata": {},
   "source": [
    "+ *We can do the same with \"JOIN\""
   ]
  },
  {
   "cell_type": "code",
   "execution_count": 13,
   "metadata": {},
   "outputs": [
    {
     "data": {
      "text/html": [
       "<div>\n",
       "<style scoped>\n",
       "    .dataframe tbody tr th:only-of-type {\n",
       "        vertical-align: middle;\n",
       "    }\n",
       "\n",
       "    .dataframe tbody tr th {\n",
       "        vertical-align: top;\n",
       "    }\n",
       "\n",
       "    .dataframe thead th {\n",
       "        text-align: right;\n",
       "    }\n",
       "</style>\n",
       "<table border=\"1\" class=\"dataframe\">\n",
       "  <thead>\n",
       "    <tr style=\"text-align: right;\">\n",
       "      <th></th>\n",
       "      <th>name</th>\n",
       "      <th>last_names</th>\n",
       "      <th>shop</th>\n",
       "    </tr>\n",
       "  </thead>\n",
       "  <tbody>\n",
       "    <tr>\n",
       "      <th>0</th>\n",
       "      <td>Ana</td>\n",
       "      <td>Lopez Gomez</td>\n",
       "      <td>Miro-Barcino</td>\n",
       "    </tr>\n",
       "    <tr>\n",
       "      <th>1</th>\n",
       "      <td>Pedro</td>\n",
       "      <td>Gonzalez Sanchez</td>\n",
       "      <td>Miro-Barcino</td>\n",
       "    </tr>\n",
       "    <tr>\n",
       "      <th>2</th>\n",
       "      <td>Sandra</td>\n",
       "      <td>Alonso Benavides</td>\n",
       "      <td>Miro-Gerunda</td>\n",
       "    </tr>\n",
       "    <tr>\n",
       "      <th>3</th>\n",
       "      <td>Pedro</td>\n",
       "      <td>Valdes Flores</td>\n",
       "      <td>Miro-Gerunda</td>\n",
       "    </tr>\n",
       "    <tr>\n",
       "      <th>4</th>\n",
       "      <td>Ana</td>\n",
       "      <td>Simancas Leon</td>\n",
       "      <td>Miro-Tarraco</td>\n",
       "    </tr>\n",
       "    <tr>\n",
       "      <th>5</th>\n",
       "      <td>Josep</td>\n",
       "      <td>Mas Llorens</td>\n",
       "      <td>Miro-Tarraco</td>\n",
       "    </tr>\n",
       "    <tr>\n",
       "      <th>6</th>\n",
       "      <td>Francisca</td>\n",
       "      <td>Tort Sarroca</td>\n",
       "      <td>Miro-Ilerda</td>\n",
       "    </tr>\n",
       "    <tr>\n",
       "      <th>7</th>\n",
       "      <td>Miquel</td>\n",
       "      <td>Sarda Sagales</td>\n",
       "      <td>Miro-Ilerda</td>\n",
       "    </tr>\n",
       "  </tbody>\n",
       "</table>\n",
       "</div>"
      ],
      "text/plain": [
       "        name        last_names          shop\n",
       "0        Ana       Lopez Gomez  Miro-Barcino\n",
       "1      Pedro  Gonzalez Sanchez  Miro-Barcino\n",
       "2     Sandra  Alonso Benavides  Miro-Gerunda\n",
       "3      Pedro     Valdes Flores  Miro-Gerunda\n",
       "4        Ana     Simancas Leon  Miro-Tarraco\n",
       "5      Josep       Mas Llorens  Miro-Tarraco\n",
       "6  Francisca      Tort Sarroca   Miro-Ilerda\n",
       "7     Miquel     Sarda Sagales   Miro-Ilerda"
      ]
     },
     "execution_count": 13,
     "metadata": {},
     "output_type": "execute_result"
    }
   ],
   "source": [
    "sql = \"SELECT treballador.nom AS name, treballador.cognoms AS last_names, establiment.nom AS shop \\\n",
    "FROM treballador JOIN establiment ON treballador.IDestabliment = establiment.IDestabliment\"\n",
    "\n",
    "treb_botiga_df2 = pd.read_sql_query(sql, con = mydb)\n",
    "\n",
    "treb_botiga_df2"
   ]
  },
  {
   "cell_type": "markdown",
   "metadata": {},
   "source": [
    "## NIVELL 3\n",
    "\n",
    "### *Exercici 3*\n",
    "\n",
    "Genera algun gràfic que resumeixi les dades"
   ]
  },
  {
   "cell_type": "markdown",
   "metadata": {},
   "source": [
    "+ *I'm visualizing in a barplot how big are the different shops of the table (\"establiment\")\n",
    "   ordered by its dimension (\"superficie\") in descendent sequence (\"DESC\")"
   ]
  },
  {
   "cell_type": "code",
   "execution_count": 14,
   "metadata": {},
   "outputs": [
    {
     "data": {
      "text/html": [
       "<div>\n",
       "<style scoped>\n",
       "    .dataframe tbody tr th:only-of-type {\n",
       "        vertical-align: middle;\n",
       "    }\n",
       "\n",
       "    .dataframe tbody tr th {\n",
       "        vertical-align: top;\n",
       "    }\n",
       "\n",
       "    .dataframe thead th {\n",
       "        text-align: right;\n",
       "    }\n",
       "</style>\n",
       "<table border=\"1\" class=\"dataframe\">\n",
       "  <thead>\n",
       "    <tr style=\"text-align: right;\">\n",
       "      <th></th>\n",
       "      <th>IDestabliment</th>\n",
       "      <th>nom</th>\n",
       "      <th>localitzacio</th>\n",
       "      <th>superficie</th>\n",
       "    </tr>\n",
       "  </thead>\n",
       "  <tbody>\n",
       "    <tr>\n",
       "      <th>0</th>\n",
       "      <td>1</td>\n",
       "      <td>Miro-Barcino</td>\n",
       "      <td>Barcelona</td>\n",
       "      <td>350</td>\n",
       "    </tr>\n",
       "    <tr>\n",
       "      <th>1</th>\n",
       "      <td>2</td>\n",
       "      <td>Miro-Gerunda</td>\n",
       "      <td>Girona</td>\n",
       "      <td>300</td>\n",
       "    </tr>\n",
       "    <tr>\n",
       "      <th>2</th>\n",
       "      <td>3</td>\n",
       "      <td>Miro-Tarraco</td>\n",
       "      <td>Tarragona</td>\n",
       "      <td>250</td>\n",
       "    </tr>\n",
       "    <tr>\n",
       "      <th>3</th>\n",
       "      <td>4</td>\n",
       "      <td>Miro-Ilerda</td>\n",
       "      <td>Lleida</td>\n",
       "      <td>200</td>\n",
       "    </tr>\n",
       "  </tbody>\n",
       "</table>\n",
       "</div>"
      ],
      "text/plain": [
       "   IDestabliment           nom localitzacio  superficie\n",
       "0              1  Miro-Barcino    Barcelona         350\n",
       "1              2  Miro-Gerunda       Girona         300\n",
       "2              3  Miro-Tarraco    Tarragona         250\n",
       "3              4   Miro-Ilerda       Lleida         200"
      ]
     },
     "execution_count": 14,
     "metadata": {},
     "output_type": "execute_result"
    }
   ],
   "source": [
    "sql = \"SELECT * FROM establiment ORDER BY superficie DESC\"\n",
    "\n",
    "establiment_m2_df = pd.read_sql_query(sql, con = mydb)\n",
    "\n",
    "establiment_m2_df"
   ]
  },
  {
   "cell_type": "code",
   "execution_count": 15,
   "metadata": {},
   "outputs": [],
   "source": [
    "import seaborn as sns\n",
    "import matplotlib.pyplot as plt"
   ]
  },
  {
   "cell_type": "code",
   "execution_count": 16,
   "metadata": {},
   "outputs": [
    {
     "data": {
      "image/png": "[encoded data removed]",
      "text/plain": [
       "<Figure size 432x288 with 1 Axes>"
      ]
     },
     "metadata": {
      "needs_background": "light"
     },
     "output_type": "display_data"
    },
    {
     "data": {
      "text/plain": [
       "<Figure size 720x288 with 0 Axes>"
      ]
     },
     "metadata": {},
     "output_type": "display_data"
    }
   ],
   "source": [
    "plt.bar(establiment_m2_df.nom, establiment_m2_df.superficie)\n",
    "plt.title(\"Dimensió botigues Cadena Miró\", color = 'Darkblue', loc = 'right')\n",
    "plt.xlabel('BOTIGA', color = 'b')\n",
    "plt.ylabel('SUPERFICIE (en m2)', color = 'b')\n",
    "plt.grid(axis = 'y')\n",
    "plt.figure(figsize=(10, 4))\n",
    "\n",
    "plt.show()\n"
   ]
  },
  {
   "cell_type": "markdown",
   "metadata": {},
   "source": [
    "+ *And the same bar plot with seaborn to get differnt colours for each bar*"
   ]
  },
  {
   "cell_type": "code",
   "execution_count": 17,
   "metadata": {},
   "outputs": [
    {
     "data": {
      "image/png": "[encoded data removed]",
      "text/plain": [
       "<Figure size 432x288 with 1 Axes>"
      ]
     },
     "metadata": {
      "needs_background": "light"
     },
     "output_type": "display_data"
    }
   ],
   "source": [
    "sns.barplot(x = 'nom',\n",
    "            y = 'superficie',\n",
    "            data = establiment_m2_df)\n",
    " \n",
    "\n",
    "plt.show()"
   ]
  },
  {
   "cell_type": "code",
   "execution_count": null,
   "metadata": {},
   "outputs": [],
   "source": []
  }
 ],
 "metadata": {
  "kernelspec": {
   "display_name": "Python 3",
   "language": "python",
   "name": "python3"
  },
  "language_info": {
   "codemirror_mode": {
    "name": "ipython",
    "version": 3
   },
   "file_extension": ".py",
   "mimetype": "text/x-python",
   "name": "python",
   "nbconvert_exporter": "python",
   "pygments_lexer": "ipython3",
   "version": "3.8.5"
  }
 },
 "nbformat": 4,
 "nbformat_minor": 4
}
